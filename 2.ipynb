{
 "cells": [
  {
   "cell_type": "code",
   "execution_count": 96,
   "id": "9fa0e7a7-950f-4e02-b4b8-6336eae3ef58",
   "metadata": {},
   "outputs": [],
   "source": [
    "import numpy as np\n",
    "import matplotlib.pyplot as plt\n",
    "from matplotlib.patches import Ellipse\n",
    "from scipy.stats import multivariate_normal\n",
    "from numpy.linalg import eig, inv, det, eig\n",
    "from IPython.display import Math, display"
   ]
  },
  {
   "cell_type": "code",
   "execution_count": 106,
   "id": "226d60de-2db0-46b7-8fe3-34f5a5d434c7",
   "metadata": {},
   "outputs": [
    {
     "data": {
      "text/latex": [
       "$\\displaystyle \\text{Mean vector } \\mu = \\begin{bmatrix}1.00 \\\\ 3.00\\end{bmatrix}$"
      ],
      "text/plain": [
       "<IPython.core.display.Math object>"
      ]
     },
     "metadata": {},
     "output_type": "display_data"
    },
    {
     "data": {
      "text/latex": [
       "$\\displaystyle \\text{Covariance matrix } \\Sigma = \\begin{bmatrix}2.00 & -1.13 \\\\ -1.13 & 1.00 \\\\ \\end{bmatrix}$"
      ],
      "text/plain": [
       "<IPython.core.display.Math object>"
      ]
     },
     "metadata": {},
     "output_type": "display_data"
    }
   ],
   "source": [
    "def display_parameters(mu, sigma):\n",
    "    # Convert the mean vector and covariance matrix to LaTeX format\n",
    "    mu_latex = vector_to_latex(mu)\n",
    "    sigma_latex = matrix_to_latex(sigma)\n",
    "    \n",
    "    # Display the mean vector and covariance matrix\n",
    "    display(Math(r\"\\text{Mean vector } \\mu = \" + mu_latex))\n",
    "    display(Math(r\"\\text{Covariance matrix } \\Sigma = \" + sigma_latex))\n",
    "\n",
    "def vector_to_latex(vector):\n",
    "    \"\"\"Formats a vector for display in LaTeX.\"\"\"\n",
    "    latex = '\\\\begin{bmatrix}' + ' \\\\\\\\ '.join(f'{num:.2f}' for num in vector) + '\\\\end{bmatrix}'\n",
    "    return latex\n",
    "\n",
    "def matrix_to_latex(matrix):\n",
    "    \"\"\"Formats a matrix for display in LaTeX.\"\"\"\n",
    "    latex = '\\\\begin{bmatrix}'\n",
    "    rows, cols = matrix.shape\n",
    "    for i in range(rows):\n",
    "        row_items = ' & '.join(f'{num:.2f}' for num in matrix[i])\n",
    "        latex += row_items + ' \\\\\\\\ '\n",
    "    latex += '\\\\end{bmatrix}'\n",
    "    return latex\n",
    "\n",
    "# Define your mean vector and covariance matrix\n",
    "mu = np.array([1, 3])  # Mean vector\n",
    "sigma12 = -0.8 * np.sqrt(2) * np.sqrt(1)\n",
    "sigma = np.array([\n",
    "    [2, sigma12],\n",
    "    [sigma12, 1]\n",
    "])\n",
    "\n",
    "# Call the function to display the parameters\n",
    "display_parameters(mu, sigma)\n"
   ]
  },
  {
   "cell_type": "code",
   "execution_count": 107,
   "id": "4c75b497-aeea-44cb-929f-4a724a7f3d78",
   "metadata": {
    "scrolled": true
   },
   "outputs": [
    {
     "data": {
      "text/latex": [
       "$\\displaystyle \\Sigma = \\begin{bmatrix}2 & -1.131 \\\\ -1.131 & 1 \\\\ \\end{bmatrix}$"
      ],
      "text/plain": [
       "<IPython.core.display.Math object>"
      ]
     },
     "metadata": {},
     "output_type": "display_data"
    },
    {
     "data": {
      "text/latex": [
       "$\\displaystyle \\Sigma^T = \\begin{bmatrix}2 & -1.131 \\\\ -1.131 & 1 \\\\ \\end{bmatrix}$"
      ],
      "text/plain": [
       "<IPython.core.display.Math object>"
      ]
     },
     "metadata": {},
     "output_type": "display_data"
    },
    {
     "data": {
      "text/latex": [
       "$\\displaystyle \\Sigma^{-1} = \\begin{bmatrix}1.389 & 1.571 \\\\ 1.571 & 2.778 \\\\ \\end{bmatrix}$"
      ],
      "text/plain": [
       "<IPython.core.display.Math object>"
      ]
     },
     "metadata": {},
     "output_type": "display_data"
    },
    {
     "data": {
      "text/latex": [
       "$\\displaystyle  |\\Sigma| = 0.720$"
      ],
      "text/plain": [
       "<IPython.core.display.Math object>"
      ]
     },
     "metadata": {},
     "output_type": "display_data"
    }
   ],
   "source": [
    "# Function to calculate and display properties of the covariance matrix with detailed formulas\n",
    "def calculate_and_display_matrix_properties(sigma):\n",
    "    # Calculate transpose, inverse, and determinant\n",
    "    sigma_T = sigma.T\n",
    "    sigma_inv = inv(sigma)\n",
    "    sigma_det = det(sigma)\n",
    "    \n",
    "    # Display the original matrix with formula\n",
    "    matrix_latex = '\\\\Sigma = ' + matrix_to_latex(sigma)\n",
    "    display(Math(matrix_latex))\n",
    "    \n",
    "    # Display the transpose with formula\n",
    "    transpose_latex = '\\\\Sigma^T = ' + matrix_to_latex(sigma_T)\n",
    "    display(Math(transpose_latex))\n",
    "    \n",
    "    # Display the inverse with formula\n",
    "    inverse_latex = '\\\\Sigma^{-1} = ' + matrix_to_latex(sigma_inv)\n",
    "    display(Math(inverse_latex))\n",
    "    \n",
    "    # Display the determinant with formula\n",
    "    det_latex = f' |\\\\Sigma| = {sigma_det:.3f}'\n",
    "    display(Math(det_latex))\n",
    "\n",
    "# Helper function to convert matrix into LaTeX format\n",
    "def matrix_to_latex(matrix):\n",
    "    latex = '\\\\begin{bmatrix}'\n",
    "    rows, cols = matrix.shape\n",
    "    for i in range(rows):\n",
    "        row_items = ' & '.join(format_number(matrix[i, j]) for j in range(cols))\n",
    "        latex += row_items + ' \\\\\\\\ '\n",
    "    latex += '\\\\end{bmatrix}'\n",
    "    return latex\n",
    "\n",
    "def format_number(num):\n",
    "    \"\"\"Format the number as an integer if it is effectively an integer, else to three decimal places.\"\"\"\n",
    "    if num % 1 == 0:  # Effectively an integer\n",
    "        return str(int(num))\n",
    "    else:  # A floating point number\n",
    "        return f'{num:.3f}'\n",
    "\n",
    "# Run the function to display the matrix properties\n",
    "calculate_and_display_matrix_properties(sigma)"
   ]
  },
  {
   "cell_type": "code",
   "execution_count": 108,
   "id": "f8c11ae1-e1cb-499f-8ac4-2e854012f36c",
   "metadata": {},
   "outputs": [
    {
     "data": {
      "text/latex": [
       "$\\displaystyle \\text{Given the covariance matrix } \\Sigma = \\begin{bmatrix}2.00 & -1.13 \\\\ -1.13 & 1.00 \\\\ \\end{bmatrix}$"
      ],
      "text/plain": [
       "<IPython.core.display.Math object>"
      ]
     },
     "metadata": {},
     "output_type": "display_data"
    },
    {
     "data": {
      "text/latex": [
       "$\\displaystyle \\text{and mean vector } \\mu = \\begin{bmatrix}1.00 \\\\ 3.00\\end{bmatrix}$"
      ],
      "text/plain": [
       "<IPython.core.display.Math object>"
      ]
     },
     "metadata": {},
     "output_type": "display_data"
    },
    {
     "data": {
      "text/latex": [
       "$\\displaystyle \\text{Eigenvalues } \\lambda \\text{ and corresponding eigenvectors are calculated using the characteristic polynomial } \\det(\\Sigma - \\lambda I) = 0.$"
      ],
      "text/plain": [
       "<IPython.core.display.Math object>"
      ]
     },
     "metadata": {},
     "output_type": "display_data"
    },
    {
     "data": {
      "text/latex": [
       "$\\displaystyle \\lambda_{1} = 2.737$"
      ],
      "text/plain": [
       "<IPython.core.display.Math object>"
      ]
     },
     "metadata": {},
     "output_type": "display_data"
    },
    {
     "data": {
      "text/latex": [
       "$\\displaystyle \\text{Eigenvector } v_{1} = \\begin{bmatrix}0.84 \\\\ -0.55\\end{bmatrix}$"
      ],
      "text/plain": [
       "<IPython.core.display.Math object>"
      ]
     },
     "metadata": {},
     "output_type": "display_data"
    },
    {
     "data": {
      "text/latex": [
       "$\\displaystyle \\text{Normalized eigenvector } \\hat{v}_{1} = \\begin{bmatrix}0.84 \\\\ -0.55\\end{bmatrix}$"
      ],
      "text/plain": [
       "<IPython.core.display.Math object>"
      ]
     },
     "metadata": {},
     "output_type": "display_data"
    },
    {
     "data": {
      "text/latex": [
       "$\\displaystyle \\lambda_{2} = 0.263$"
      ],
      "text/plain": [
       "<IPython.core.display.Math object>"
      ]
     },
     "metadata": {},
     "output_type": "display_data"
    },
    {
     "data": {
      "text/latex": [
       "$\\displaystyle \\text{Eigenvector } v_{2} = \\begin{bmatrix}0.55 \\\\ 0.84\\end{bmatrix}$"
      ],
      "text/plain": [
       "<IPython.core.display.Math object>"
      ]
     },
     "metadata": {},
     "output_type": "display_data"
    },
    {
     "data": {
      "text/latex": [
       "$\\displaystyle \\text{Normalized eigenvector } \\hat{v}_{2} = \\begin{bmatrix}0.55 \\\\ 0.84\\end{bmatrix}$"
      ],
      "text/plain": [
       "<IPython.core.display.Math object>"
      ]
     },
     "metadata": {},
     "output_type": "display_data"
    }
   ],
   "source": [
    "def display_eigenvalue_eigenvector_details(mu, sigma):\n",
    "    # Calculate eigenvalues and eigenvectors\n",
    "    eigenvalues, eigenvectors = eig(sigma)\n",
    "    \n",
    "    # Display the calculation of eigenvalues and eigenvectors\n",
    "    display(Math(r\"\\text{Given the covariance matrix } \\Sigma = \" + matrix_to_latex(sigma)))\n",
    "    display(Math(r\"\\text{and mean vector } \\mu = \" + vector_to_latex(mu)))\n",
    "    \n",
    "    eigenvalue_latex = r\"\\text{Eigenvalues } \\lambda \\text{ and corresponding eigenvectors are calculated using the characteristic polynomial } \\det(\\Sigma - \\lambda I) = 0.\"\n",
    "    display(Math(eigenvalue_latex))\n",
    "    \n",
    "    # Display eigenvalues and eigenvectors\n",
    "    for i, (eigenvalue, eigenvector) in enumerate(zip(eigenvalues, eigenvectors.T), 1):\n",
    "        # Display eigenvalue\n",
    "        eigenvalue_latex = f\"\\\\lambda_{{{i}}} = {eigenvalue:.3f}\"\n",
    "        display(Math(eigenvalue_latex))\n",
    "        # Display eigenvector\n",
    "        eigenvector_latex = f\"\\\\text{{Eigenvector }} v_{{{i}}} = \" + vector_to_latex(eigenvector)\n",
    "        display(Math(eigenvector_latex))\n",
    "        # Display normalization process\n",
    "        norm = np.linalg.norm(eigenvector)\n",
    "        normalized_vec = eigenvector / norm\n",
    "        normalization_process_latex = f\"\\\\text{{Normalized eigenvector }} \\\\hat{{v}}_{{{i}}} = \" + vector_to_latex(normalized_vec)\n",
    "        display(Math(normalization_process_latex))\n",
    "\n",
    "def matrix_to_latex(matrix):\n",
    "    latex = '\\\\begin{bmatrix}'\n",
    "    rows, cols = matrix.shape\n",
    "    for i in range(rows):\n",
    "        row_items = ' & '.join(f'{num:.2f}' for num in matrix[i])\n",
    "        latex += row_items + ' \\\\\\\\ '\n",
    "    latex += '\\\\end{bmatrix}'\n",
    "    return latex\n",
    "\n",
    "def vector_to_latex(vector):\n",
    "    latex = '\\\\begin{bmatrix}'\n",
    "    latex += ' \\\\\\\\ '.join(f'{num:.2f}' for num in vector)\n",
    "    latex += '\\\\end{bmatrix}'\n",
    "    return latex\n",
    "\n",
    "# Call the function to display the results\n",
    "display_eigenvalue_eigenvector_details(mu, sigma)"
   ]
  },
  {
   "cell_type": "code",
   "execution_count": 109,
   "id": "725de3b5-fc05-43c8-88b4-69a949b42e38",
   "metadata": {},
   "outputs": [
    {
     "data": {
      "text/latex": [
       "$\\displaystyle \\text{Equation of the ellipse: } \\frac{(x - \\mu_1)^2}{a^2} + \\frac{(y - \\mu_2)^2}{b^2} = 1$"
      ],
      "text/plain": [
       "<IPython.core.display.Math object>"
      ]
     },
     "metadata": {},
     "output_type": "display_data"
    },
    {
     "data": {
      "text/latex": [
       "$\\displaystyle \\text{where } \\mu_1 = -3.00, \\ \\mu_2 = 1.00, \\ a = 2.41, \\ b = 0.41$"
      ],
      "text/plain": [
       "<IPython.core.display.Math object>"
      ]
     },
     "metadata": {},
     "output_type": "display_data"
    },
    {
     "data": {
      "image/png": "[encoded data removed]",
      "text/plain": [
       "<Figure size 640x480 with 1 Axes>"
      ]
     },
     "metadata": {},
     "output_type": "display_data"
    }
   ],
   "source": [
    "def plot_ellipse(mu, sigma):\n",
    "    # Calculate eigenvalues and eigenvectors\n",
    "    eigenvalues, eigenvectors = eig(sigma)\n",
    "    \n",
    "    # Sort the eigenvalues and eigenvectors\n",
    "    order = eigenvalues.argsort()[::-1]\n",
    "    eigenvalues = eigenvalues[order]\n",
    "    eigenvectors = eigenvectors[:, order]\n",
    "    \n",
    "    # Calculate angle and widths of the ellipse\n",
    "    angle = np.arctan2(eigenvectors[1, 0], eigenvectors[0, 0])\n",
    "    width, height = 2 * np.sqrt(eigenvalues)  # 2*sqrt(lambda) for the axes lengths\n",
    "    \n",
    "    # Display the equation of the ellipse\n",
    "    display(Math(r\"\\text{Equation of the ellipse: } \\frac{(x - \\mu_1)^2}{a^2} + \\frac{(y - \\mu_2)^2}{b^2} = 1\"))\n",
    "    display(Math(r\"\\text{where } \\mu_1 = \" + f\"{mu[0]:.2f}\" + r\", \\ \\mu_2 = \" + f\"{mu[1]:.2f}\" + r\", \\ a = \" + f\"{width/2:.2f}\" + r\", \\ b = \" + f\"{height/2:.2f}\"))\n",
    "    \n",
    "    # Plot the ellipse\n",
    "    fig, ax = plt.subplots()\n",
    "    ellipse = Ellipse(xy=mu[:2], width=width, height=height, angle=np.degrees(angle), edgecolor='r', facecolor='none')\n",
    "    ax.add_patch(ellipse)\n",
    "    ax.set_xlim(mu[0] - width, mu[0] + width)\n",
    "    ax.set_ylim(mu[1] - height, mu[1] + height)\n",
    "    ax.plot(mu[0], mu[1], 'ro')  # Plot the mean as a red dot\n",
    "    ax.set_aspect('equal', 'box')\n",
    "    plt.grid(True)\n",
    "    plt.title('Elliptical Density Contour')\n",
    "    plt.xlabel('X1')\n",
    "    plt.ylabel('X2')\n",
    "    plt.show()\n",
    "\n",
    "# Mean vector and covariance matrix (corrected dimensions for 2D visualization)\n",
    "mu = np.array([-3, 1])  # Mean vector for x1, x2\n",
    "sigma = np.array([[1, -2], [-2, 5]])  # Covariance matrix for x1, x2\n",
    "\n",
    "# Call the function with the two dimensions\n",
    "plot_ellipse(mu, sigma)"
   ]
  },
  {
   "cell_type": "code",
   "execution_count": null,
   "id": "139bdf7a-7dc6-4295-9d6e-bbe4bdae9fd4",
   "metadata": {},
   "outputs": [],
   "source": []
  },
  {
   "cell_type": "code",
   "execution_count": null,
   "id": "26a3fb85-962c-448c-9e40-a01349a77bd1",
   "metadata": {},
   "outputs": [],
   "source": []
  }
 ],
 "metadata": {
  "kernelspec": {
   "display_name": "Python 3 (ipykernel)",
   "language": "python",
   "name": "python3"
  },
  "language_info": {
   "codemirror_mode": {
    "name": "ipython",
    "version": 3
   },
   "file_extension": ".py",
   "mimetype": "text/x-python",
   "name": "python",
   "nbconvert_exporter": "python",
   "pygments_lexer": "ipython3",
   "version": "3.9.19"
  }
 },
 "nbformat": 4,
 "nbformat_minor": 5
}
